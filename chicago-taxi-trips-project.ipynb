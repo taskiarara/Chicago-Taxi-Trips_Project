{
 "cells": [
  {
   "cell_type": "code",
   "execution_count": 1,
   "id": "018a39cb",
   "metadata": {
    "execution": {
     "iopub.execute_input": "2024-10-16T12:06:27.037670Z",
     "iopub.status.busy": "2024-10-16T12:06:27.037257Z",
     "iopub.status.idle": "2024-10-16T12:07:14.710065Z",
     "shell.execute_reply": "2024-10-16T12:07:14.708811Z"
    },
    "papermill": {
     "duration": 47.683827,
     "end_time": "2024-10-16T12:07:14.715706",
     "exception": false,
     "start_time": "2024-10-16T12:06:27.031879",
     "status": "completed"
    },
    "tags": []
   },
   "outputs": [
    {
     "name": "stdout",
     "output_type": "stream",
     "text": [
      "Collecting git+https://github.com/Kaggle/learntools.git\r\n",
      "  Cloning https://github.com/Kaggle/learntools.git to /tmp/pip-req-build-n3p91cnb\r\n",
      "  Running command git clone --filter=blob:none --quiet https://github.com/Kaggle/learntools.git /tmp/pip-req-build-n3p91cnb\r\n",
      "  Resolved https://github.com/Kaggle/learntools.git to commit ca2a51ee0085e4943cadaf5e9fe7dce2ec947d3c\r\n",
      "  Preparing metadata (setup.py) ... \u001b[?25ldone\r\n",
      "\u001b[?25hBuilding wheels for collected packages: learntools\r\n",
      "  Building wheel for learntools (setup.py) ... \u001b[?25l-\b \bdone\r\n",
      "\u001b[?25h  Created wheel for learntools: filename=learntools-0.3.4-py3-none-any.whl size=268968 sha256=de842f232c26b91a45222aaa35b5978f4789ea7e63aad4c74f165d935b2fbf95\r\n",
      "  Stored in directory: /tmp/pip-ephem-wheel-cache-oe175abi/wheels/2f/6c/3c/aa9f50cfb5a862157cb4c7a5b34881828cf45404698255dced\r\n",
      "Successfully built learntools\r\n",
      "Installing collected packages: learntools\r\n",
      "Successfully installed learntools-0.3.4\r\n",
      "Using Kaggle's public dataset BigQuery integration.\n",
      "Setup Complete\n"
     ]
    }
   ],
   "source": [
    "# Get most recent checking code\n",
    "!pip install -U -t /kaggle/working/ git+https://github.com/Kaggle/learntools.git\n",
    "# Set up feedback system\n",
    "from learntools.core import binder\n",
    "binder.bind(globals())\n",
    "from learntools.sql_advanced.ex2 import *\n",
    "print(\"Setup Complete\")"
   ]
  },
  {
   "cell_type": "code",
   "execution_count": 2,
   "id": "985649ca",
   "metadata": {
    "execution": {
     "iopub.execute_input": "2024-10-16T12:07:14.726179Z",
     "iopub.status.busy": "2024-10-16T12:07:14.725598Z",
     "iopub.status.idle": "2024-10-16T12:07:14.730862Z",
     "shell.execute_reply": "2024-10-16T12:07:14.729771Z"
    },
    "papermill": {
     "duration": 0.013118,
     "end_time": "2024-10-16T12:07:14.733155",
     "exception": false,
     "start_time": "2024-10-16T12:07:14.720037",
     "status": "completed"
    },
    "tags": []
   },
   "outputs": [],
   "source": [
    "from google.cloud import bigquery\n",
    "import pandas as pd"
   ]
  },
  {
   "cell_type": "code",
   "execution_count": 3,
   "id": "59c637de",
   "metadata": {
    "execution": {
     "iopub.execute_input": "2024-10-16T12:07:14.743556Z",
     "iopub.status.busy": "2024-10-16T12:07:14.742706Z",
     "iopub.status.idle": "2024-10-16T12:07:17.127680Z",
     "shell.execute_reply": "2024-10-16T12:07:17.126623Z"
    },
    "papermill": {
     "duration": 2.392593,
     "end_time": "2024-10-16T12:07:17.129890",
     "exception": false,
     "start_time": "2024-10-16T12:07:14.737297",
     "status": "completed"
    },
    "tags": []
   },
   "outputs": [
    {
     "name": "stdout",
     "output_type": "stream",
     "text": [
      "Using Kaggle's public dataset BigQuery integration.\n"
     ]
    },
    {
     "data": {
      "text/html": [
       "<div>\n",
       "<style scoped>\n",
       "    .dataframe tbody tr th:only-of-type {\n",
       "        vertical-align: middle;\n",
       "    }\n",
       "\n",
       "    .dataframe tbody tr th {\n",
       "        vertical-align: top;\n",
       "    }\n",
       "\n",
       "    .dataframe thead th {\n",
       "        text-align: right;\n",
       "    }\n",
       "</style>\n",
       "<table border=\"1\" class=\"dataframe\">\n",
       "  <thead>\n",
       "    <tr style=\"text-align: right;\">\n",
       "      <th></th>\n",
       "      <th>unique_key</th>\n",
       "      <th>taxi_id</th>\n",
       "      <th>trip_start_timestamp</th>\n",
       "      <th>trip_end_timestamp</th>\n",
       "      <th>trip_seconds</th>\n",
       "      <th>trip_miles</th>\n",
       "      <th>pickup_census_tract</th>\n",
       "      <th>dropoff_census_tract</th>\n",
       "      <th>pickup_community_area</th>\n",
       "      <th>dropoff_community_area</th>\n",
       "      <th>...</th>\n",
       "      <th>extras</th>\n",
       "      <th>trip_total</th>\n",
       "      <th>payment_type</th>\n",
       "      <th>company</th>\n",
       "      <th>pickup_latitude</th>\n",
       "      <th>pickup_longitude</th>\n",
       "      <th>pickup_location</th>\n",
       "      <th>dropoff_latitude</th>\n",
       "      <th>dropoff_longitude</th>\n",
       "      <th>dropoff_location</th>\n",
       "    </tr>\n",
       "  </thead>\n",
       "  <tbody>\n",
       "    <tr>\n",
       "      <th>0</th>\n",
       "      <td>9f895c32eb7ef473c8c03da76e99a803dfcab41a</td>\n",
       "      <td>2130bc5fd239a4e3b304662424fb4cc7db0ca7abf78cc5...</td>\n",
       "      <td>2013-07-26 21:00:00+00:00</td>\n",
       "      <td>2013-07-26 21:00:00+00:00</td>\n",
       "      <td>60</td>\n",
       "      <td>0.00</td>\n",
       "      <td>NaN</td>\n",
       "      <td>NaN</td>\n",
       "      <td>NaN</td>\n",
       "      <td>NaN</td>\n",
       "      <td>...</td>\n",
       "      <td>NaN</td>\n",
       "      <td>NaN</td>\n",
       "      <td>Cash</td>\n",
       "      <td>None</td>\n",
       "      <td>NaN</td>\n",
       "      <td>NaN</td>\n",
       "      <td>None</td>\n",
       "      <td>NaN</td>\n",
       "      <td>NaN</td>\n",
       "      <td>None</td>\n",
       "    </tr>\n",
       "    <tr>\n",
       "      <th>1</th>\n",
       "      <td>f4c42db73e32ec8fd4814e5e22b4a1947d08c080</td>\n",
       "      <td>2130bc5fd239a4e3b304662424fb4cc7db0ca7abf78cc5...</td>\n",
       "      <td>2013-07-26 21:00:00+00:00</td>\n",
       "      <td>2013-07-26 21:00:00+00:00</td>\n",
       "      <td>0</td>\n",
       "      <td>0.00</td>\n",
       "      <td>NaN</td>\n",
       "      <td>NaN</td>\n",
       "      <td>NaN</td>\n",
       "      <td>NaN</td>\n",
       "      <td>...</td>\n",
       "      <td>NaN</td>\n",
       "      <td>NaN</td>\n",
       "      <td>Cash</td>\n",
       "      <td>None</td>\n",
       "      <td>NaN</td>\n",
       "      <td>NaN</td>\n",
       "      <td>None</td>\n",
       "      <td>NaN</td>\n",
       "      <td>NaN</td>\n",
       "      <td>None</td>\n",
       "    </tr>\n",
       "    <tr>\n",
       "      <th>2</th>\n",
       "      <td>3d147cb3f85483a1c00c7d7e27742712bf1e8f8c</td>\n",
       "      <td>38205a7b4cb9cdabd0d6ee8c4c6b115c53e7bd7b06645a...</td>\n",
       "      <td>2014-05-09 14:45:00+00:00</td>\n",
       "      <td>2014-05-09 14:45:00+00:00</td>\n",
       "      <td>120</td>\n",
       "      <td>0.00</td>\n",
       "      <td>NaN</td>\n",
       "      <td>NaN</td>\n",
       "      <td>NaN</td>\n",
       "      <td>NaN</td>\n",
       "      <td>...</td>\n",
       "      <td>NaN</td>\n",
       "      <td>NaN</td>\n",
       "      <td>Credit Card</td>\n",
       "      <td>None</td>\n",
       "      <td>NaN</td>\n",
       "      <td>NaN</td>\n",
       "      <td>None</td>\n",
       "      <td>NaN</td>\n",
       "      <td>NaN</td>\n",
       "      <td>None</td>\n",
       "    </tr>\n",
       "    <tr>\n",
       "      <th>3</th>\n",
       "      <td>522ac1df4121f3249d82761e1b37c91521f4e923</td>\n",
       "      <td>ac1045ae61a5226a9216bd9641b458bd9d7e7da0680ada...</td>\n",
       "      <td>2013-12-06 22:15:00+00:00</td>\n",
       "      <td>2013-12-06 22:30:00+00:00</td>\n",
       "      <td>840</td>\n",
       "      <td>0.35</td>\n",
       "      <td>NaN</td>\n",
       "      <td>NaN</td>\n",
       "      <td>NaN</td>\n",
       "      <td>NaN</td>\n",
       "      <td>...</td>\n",
       "      <td>NaN</td>\n",
       "      <td>NaN</td>\n",
       "      <td>Cash</td>\n",
       "      <td>None</td>\n",
       "      <td>NaN</td>\n",
       "      <td>NaN</td>\n",
       "      <td>None</td>\n",
       "      <td>NaN</td>\n",
       "      <td>NaN</td>\n",
       "      <td>None</td>\n",
       "    </tr>\n",
       "    <tr>\n",
       "      <th>4</th>\n",
       "      <td>93eb46600c3222a92d7d78cbac6ac35c42be9a77</td>\n",
       "      <td>78d45b51ff03d70f0ba2afda334acf93f678a179aaaaca...</td>\n",
       "      <td>2014-03-06 15:30:00+00:00</td>\n",
       "      <td>2014-03-06 15:45:00+00:00</td>\n",
       "      <td>1500</td>\n",
       "      <td>1.39</td>\n",
       "      <td>NaN</td>\n",
       "      <td>1.703198e+10</td>\n",
       "      <td>NaN</td>\n",
       "      <td>76.0</td>\n",
       "      <td>...</td>\n",
       "      <td>NaN</td>\n",
       "      <td>NaN</td>\n",
       "      <td>Credit Card</td>\n",
       "      <td>None</td>\n",
       "      <td>NaN</td>\n",
       "      <td>NaN</td>\n",
       "      <td>None</td>\n",
       "      <td>41.979071</td>\n",
       "      <td>-87.90304</td>\n",
       "      <td>POINT (-87.9030396611 41.9790708201)</td>\n",
       "    </tr>\n",
       "  </tbody>\n",
       "</table>\n",
       "<p>5 rows × 23 columns</p>\n",
       "</div>"
      ],
      "text/plain": [
       "                                 unique_key  \\\n",
       "0  9f895c32eb7ef473c8c03da76e99a803dfcab41a   \n",
       "1  f4c42db73e32ec8fd4814e5e22b4a1947d08c080   \n",
       "2  3d147cb3f85483a1c00c7d7e27742712bf1e8f8c   \n",
       "3  522ac1df4121f3249d82761e1b37c91521f4e923   \n",
       "4  93eb46600c3222a92d7d78cbac6ac35c42be9a77   \n",
       "\n",
       "                                             taxi_id  \\\n",
       "0  2130bc5fd239a4e3b304662424fb4cc7db0ca7abf78cc5...   \n",
       "1  2130bc5fd239a4e3b304662424fb4cc7db0ca7abf78cc5...   \n",
       "2  38205a7b4cb9cdabd0d6ee8c4c6b115c53e7bd7b06645a...   \n",
       "3  ac1045ae61a5226a9216bd9641b458bd9d7e7da0680ada...   \n",
       "4  78d45b51ff03d70f0ba2afda334acf93f678a179aaaaca...   \n",
       "\n",
       "       trip_start_timestamp        trip_end_timestamp  trip_seconds  \\\n",
       "0 2013-07-26 21:00:00+00:00 2013-07-26 21:00:00+00:00            60   \n",
       "1 2013-07-26 21:00:00+00:00 2013-07-26 21:00:00+00:00             0   \n",
       "2 2014-05-09 14:45:00+00:00 2014-05-09 14:45:00+00:00           120   \n",
       "3 2013-12-06 22:15:00+00:00 2013-12-06 22:30:00+00:00           840   \n",
       "4 2014-03-06 15:30:00+00:00 2014-03-06 15:45:00+00:00          1500   \n",
       "\n",
       "   trip_miles  pickup_census_tract  dropoff_census_tract  \\\n",
       "0        0.00                  NaN                   NaN   \n",
       "1        0.00                  NaN                   NaN   \n",
       "2        0.00                  NaN                   NaN   \n",
       "3        0.35                  NaN                   NaN   \n",
       "4        1.39                  NaN          1.703198e+10   \n",
       "\n",
       "   pickup_community_area  dropoff_community_area  ...  extras  trip_total  \\\n",
       "0                    NaN                     NaN  ...     NaN         NaN   \n",
       "1                    NaN                     NaN  ...     NaN         NaN   \n",
       "2                    NaN                     NaN  ...     NaN         NaN   \n",
       "3                    NaN                     NaN  ...     NaN         NaN   \n",
       "4                    NaN                    76.0  ...     NaN         NaN   \n",
       "\n",
       "   payment_type  company  pickup_latitude pickup_longitude pickup_location  \\\n",
       "0          Cash     None              NaN              NaN            None   \n",
       "1          Cash     None              NaN              NaN            None   \n",
       "2   Credit Card     None              NaN              NaN            None   \n",
       "3          Cash     None              NaN              NaN            None   \n",
       "4   Credit Card     None              NaN              NaN            None   \n",
       "\n",
       "   dropoff_latitude  dropoff_longitude                      dropoff_location  \n",
       "0               NaN                NaN                                  None  \n",
       "1               NaN                NaN                                  None  \n",
       "2               NaN                NaN                                  None  \n",
       "3               NaN                NaN                                  None  \n",
       "4         41.979071          -87.90304  POINT (-87.9030396611 41.9790708201)  \n",
       "\n",
       "[5 rows x 23 columns]"
      ]
     },
     "execution_count": 3,
     "metadata": {},
     "output_type": "execute_result"
    }
   ],
   "source": [
    "# Create a \"Client\" object\n",
    "client = bigquery.Client()\n",
    "\n",
    "# Construct a reference to the \"chicago_taxi_trips\" dataset\n",
    "dataset_ref = client.dataset(\"chicago_taxi_trips\", project=\"bigquery-public-data\")\n",
    "\n",
    "# API request - fetch the dataset\n",
    "dataset = client.get_dataset(dataset_ref)\n",
    "\n",
    "# Construct a reference to the \"taxi_trips\" table\n",
    "table_ref = dataset_ref.table(\"taxi_trips\")\n",
    "\n",
    "# API request - fetch the table\n",
    "table = client.get_table(table_ref)\n",
    "\n",
    "# Preview the first five lines of the table\n",
    "client.list_rows(table, max_results=5).to_dataframe()"
   ]
  },
  {
   "cell_type": "markdown",
   "id": "4c0414b1",
   "metadata": {
    "papermill": {
     "duration": 0.004141,
     "end_time": "2024-10-16T12:07:17.138546",
     "exception": false,
     "start_time": "2024-10-16T12:07:17.134405",
     "status": "completed"
    },
    "tags": []
   },
   "source": [
    "## Comparison of the Mean, Median, and Standard Deviation of trip_seconds for Trips Made on Monday and Saturday"
   ]
  },
  {
   "cell_type": "code",
   "execution_count": 4,
   "id": "10802f3e",
   "metadata": {
    "execution": {
     "iopub.execute_input": "2024-10-16T12:07:17.148852Z",
     "iopub.status.busy": "2024-10-16T12:07:17.148461Z",
     "iopub.status.idle": "2024-10-16T12:07:19.759912Z",
     "shell.execute_reply": "2024-10-16T12:07:19.758707Z"
    },
    "papermill": {
     "duration": 2.619889,
     "end_time": "2024-10-16T12:07:19.762780",
     "exception": false,
     "start_time": "2024-10-16T12:07:17.142891",
     "status": "completed"
    },
    "tags": []
   },
   "outputs": [
    {
     "data": {
      "text/html": [
       "<div>\n",
       "<style scoped>\n",
       "    .dataframe tbody tr th:only-of-type {\n",
       "        vertical-align: middle;\n",
       "    }\n",
       "\n",
       "    .dataframe tbody tr th {\n",
       "        vertical-align: top;\n",
       "    }\n",
       "\n",
       "    .dataframe thead th {\n",
       "        text-align: right;\n",
       "    }\n",
       "</style>\n",
       "<table border=\"1\" class=\"dataframe\">\n",
       "  <thead>\n",
       "    <tr style=\"text-align: right;\">\n",
       "      <th></th>\n",
       "      <th>weekday</th>\n",
       "      <th>avg_seconds</th>\n",
       "      <th>median_seconds</th>\n",
       "      <th>stddev_seconds</th>\n",
       "    </tr>\n",
       "  </thead>\n",
       "  <tbody>\n",
       "    <tr>\n",
       "      <th>0</th>\n",
       "      <td>Monday</td>\n",
       "      <td>839.479784</td>\n",
       "      <td>540</td>\n",
       "      <td>1346.060208</td>\n",
       "    </tr>\n",
       "    <tr>\n",
       "      <th>1</th>\n",
       "      <td>Saturday</td>\n",
       "      <td>737.410552</td>\n",
       "      <td>552</td>\n",
       "      <td>1146.335888</td>\n",
       "    </tr>\n",
       "  </tbody>\n",
       "</table>\n",
       "</div>"
      ],
      "text/plain": [
       "    weekday  avg_seconds  median_seconds  stddev_seconds\n",
       "0    Monday   839.479784             540     1346.060208\n",
       "1  Saturday   737.410552             552     1146.335888"
      ]
     },
     "execution_count": 4,
     "metadata": {},
     "output_type": "execute_result"
    }
   ],
   "source": [
    "# Define the SQL query\n",
    "query1 = \"\"\"\n",
    "WITH trips AS (\n",
    "    SELECT\n",
    "        trip_seconds,\n",
    "        FORMAT_TIMESTAMP('%A', trip_start_timestamp) AS weekday\n",
    "    FROM\n",
    "        `bigquery-public-data.chicago_taxi_trips.taxi_trips`\n",
    ")\n",
    "SELECT\n",
    "    weekday,\n",
    "    AVG(trip_seconds) AS avg_seconds,\n",
    "    APPROX_QUANTILES(trip_seconds, 100)[OFFSET(50)] AS median_seconds,\n",
    "    STDDEV(trip_seconds) AS stddev_seconds\n",
    "FROM\n",
    "    trips\n",
    "WHERE\n",
    "    weekday IN ('Monday', 'Saturday')\n",
    "GROUP BY\n",
    "    weekday\n",
    "\"\"\"\n",
    "\n",
    "# Execute the query and convert results to a DataFrame\n",
    "df1 = client.query(query1).to_dataframe()\n",
    "df1.head()"
   ]
  },
  {
   "cell_type": "markdown",
   "id": "9efe13f8",
   "metadata": {
    "papermill": {
     "duration": 0.004822,
     "end_time": "2024-10-16T12:07:19.773271",
     "exception": false,
     "start_time": "2024-10-16T12:07:19.768449",
     "status": "completed"
    },
    "tags": []
   },
   "source": [
    "* The trip seconds on **Monday** had a **higher mean and standard deviation** than the trip duration on Saturday at 839 s (14 minutes) and 1346 s (22 minutes).\n",
    "* The trip seconds on **Saturday** had a **higher median** than the trip duration on Monday at 552 s (9 minutes)."
   ]
  },
  {
   "cell_type": "markdown",
   "id": "3f7662ec",
   "metadata": {
    "papermill": {
     "duration": 0.00448,
     "end_time": "2024-10-16T12:07:19.782696",
     "exception": false,
     "start_time": "2024-10-16T12:07:19.778216",
     "status": "completed"
    },
    "tags": []
   },
   "source": [
    "## The Five Routes with the Highest Number of Trips in 2023"
   ]
  },
  {
   "cell_type": "code",
   "execution_count": 5,
   "id": "95a866b5",
   "metadata": {
    "execution": {
     "iopub.execute_input": "2024-10-16T12:07:19.794787Z",
     "iopub.status.busy": "2024-10-16T12:07:19.793621Z",
     "iopub.status.idle": "2024-10-16T12:07:21.615010Z",
     "shell.execute_reply": "2024-10-16T12:07:21.613991Z"
    },
    "papermill": {
     "duration": 1.829803,
     "end_time": "2024-10-16T12:07:21.617267",
     "exception": false,
     "start_time": "2024-10-16T12:07:19.787464",
     "status": "completed"
    },
    "tags": []
   },
   "outputs": [
    {
     "data": {
      "text/html": [
       "<div>\n",
       "<style scoped>\n",
       "    .dataframe tbody tr th:only-of-type {\n",
       "        vertical-align: middle;\n",
       "    }\n",
       "\n",
       "    .dataframe tbody tr th {\n",
       "        vertical-align: top;\n",
       "    }\n",
       "\n",
       "    .dataframe thead th {\n",
       "        text-align: right;\n",
       "    }\n",
       "</style>\n",
       "<table border=\"1\" class=\"dataframe\">\n",
       "  <thead>\n",
       "    <tr style=\"text-align: right;\">\n",
       "      <th></th>\n",
       "      <th>pickup_community_area</th>\n",
       "      <th>dropoff_community_area</th>\n",
       "      <th>num_trips</th>\n",
       "    </tr>\n",
       "  </thead>\n",
       "  <tbody>\n",
       "    <tr>\n",
       "      <th>0</th>\n",
       "      <td>8</td>\n",
       "      <td>8</td>\n",
       "      <td>464844</td>\n",
       "    </tr>\n",
       "    <tr>\n",
       "      <th>1</th>\n",
       "      <td>32</td>\n",
       "      <td>8</td>\n",
       "      <td>291722</td>\n",
       "    </tr>\n",
       "    <tr>\n",
       "      <th>2</th>\n",
       "      <td>76</td>\n",
       "      <td>8</td>\n",
       "      <td>274747</td>\n",
       "    </tr>\n",
       "    <tr>\n",
       "      <th>3</th>\n",
       "      <td>8</td>\n",
       "      <td>32</td>\n",
       "      <td>267673</td>\n",
       "    </tr>\n",
       "    <tr>\n",
       "      <th>4</th>\n",
       "      <td>32</td>\n",
       "      <td>32</td>\n",
       "      <td>241596</td>\n",
       "    </tr>\n",
       "  </tbody>\n",
       "</table>\n",
       "</div>"
      ],
      "text/plain": [
       "   pickup_community_area  dropoff_community_area  num_trips\n",
       "0                      8                       8     464844\n",
       "1                     32                       8     291722\n",
       "2                     76                       8     274747\n",
       "3                      8                      32     267673\n",
       "4                     32                      32     241596"
      ]
     },
     "execution_count": 5,
     "metadata": {},
     "output_type": "execute_result"
    }
   ],
   "source": [
    "# Define the SQL query\n",
    "query2 = \"\"\"\n",
    "SELECT \n",
    "    pickup_community_area,\n",
    "    dropoff_community_area,\n",
    "    COUNT(*) AS num_trips\n",
    "FROM \n",
    "    `bigquery-public-data.chicago_taxi_trips.taxi_trips`\n",
    "WHERE \n",
    "    pickup_community_area IS NOT NULL\n",
    "    AND dropoff_community_area IS NOT NULL\n",
    "    AND EXTRACT(YEAR FROM trip_start_timestamp) = 2023\n",
    "GROUP BY \n",
    "    pickup_community_area, dropoff_community_area\n",
    "ORDER BY \n",
    "    num_trips DESC\n",
    "LIMIT 5\n",
    "\"\"\"\n",
    "\n",
    "# Execute the query and convert results to a DataFrame\n",
    "df2 = client.query(query2).to_dataframe()\n",
    "df2.head(5)\n"
   ]
  },
  {
   "cell_type": "markdown",
   "id": "e13b11a5",
   "metadata": {
    "papermill": {
     "duration": 0.004459,
     "end_time": "2024-10-16T12:07:21.626523",
     "exception": false,
     "start_time": "2024-10-16T12:07:21.622064",
     "status": "completed"
    },
    "tags": []
   },
   "source": [
    "**Community Area 8** is **the most** frequently used pickup and drop-off location in 2023 with a total of **464844 trips**."
   ]
  },
  {
   "cell_type": "markdown",
   "id": "2679886f",
   "metadata": {
    "papermill": {
     "duration": 0.004767,
     "end_time": "2024-10-16T12:07:21.636133",
     "exception": false,
     "start_time": "2024-10-16T12:07:21.631366",
     "status": "completed"
    },
    "tags": []
   },
   "source": [
    "## Comparison of Average Taxi Trip Costs (fare, tips, and taxes) by Payment Method in 2019"
   ]
  },
  {
   "cell_type": "code",
   "execution_count": 6,
   "id": "824a967e",
   "metadata": {
    "execution": {
     "iopub.execute_input": "2024-10-16T12:07:21.648977Z",
     "iopub.status.busy": "2024-10-16T12:07:21.648059Z",
     "iopub.status.idle": "2024-10-16T12:07:23.787686Z",
     "shell.execute_reply": "2024-10-16T12:07:23.786281Z"
    },
    "papermill": {
     "duration": 2.147963,
     "end_time": "2024-10-16T12:07:23.790095",
     "exception": false,
     "start_time": "2024-10-16T12:07:21.642132",
     "status": "completed"
    },
    "tags": []
   },
   "outputs": [
    {
     "data": {
      "text/html": [
       "<div>\n",
       "<style scoped>\n",
       "    .dataframe tbody tr th:only-of-type {\n",
       "        vertical-align: middle;\n",
       "    }\n",
       "\n",
       "    .dataframe tbody tr th {\n",
       "        vertical-align: top;\n",
       "    }\n",
       "\n",
       "    .dataframe thead th {\n",
       "        text-align: right;\n",
       "    }\n",
       "</style>\n",
       "<table border=\"1\" class=\"dataframe\">\n",
       "  <thead>\n",
       "    <tr style=\"text-align: right;\">\n",
       "      <th></th>\n",
       "      <th>payment_type</th>\n",
       "      <th>avg_fare</th>\n",
       "      <th>avg_tips</th>\n",
       "      <th>avg_tolls</th>\n",
       "    </tr>\n",
       "  </thead>\n",
       "  <tbody>\n",
       "    <tr>\n",
       "      <th>0</th>\n",
       "      <td>Cash</td>\n",
       "      <td>12.978306</td>\n",
       "      <td>0.002387</td>\n",
       "      <td>0.001791</td>\n",
       "    </tr>\n",
       "    <tr>\n",
       "      <th>1</th>\n",
       "      <td>Credit Card</td>\n",
       "      <td>16.814138</td>\n",
       "      <td>3.774545</td>\n",
       "      <td>0.002267</td>\n",
       "    </tr>\n",
       "    <tr>\n",
       "      <th>2</th>\n",
       "      <td>Dispute</td>\n",
       "      <td>15.655840</td>\n",
       "      <td>0.001446</td>\n",
       "      <td>0.078991</td>\n",
       "    </tr>\n",
       "    <tr>\n",
       "      <th>3</th>\n",
       "      <td>Mobile</td>\n",
       "      <td>15.973174</td>\n",
       "      <td>3.112698</td>\n",
       "      <td>0.000050</td>\n",
       "    </tr>\n",
       "    <tr>\n",
       "      <th>4</th>\n",
       "      <td>No Charge</td>\n",
       "      <td>15.753510</td>\n",
       "      <td>0.249532</td>\n",
       "      <td>0.019142</td>\n",
       "    </tr>\n",
       "    <tr>\n",
       "      <th>5</th>\n",
       "      <td>Pcard</td>\n",
       "      <td>11.327471</td>\n",
       "      <td>0.038023</td>\n",
       "      <td>0.000000</td>\n",
       "    </tr>\n",
       "    <tr>\n",
       "      <th>6</th>\n",
       "      <td>Prcard</td>\n",
       "      <td>16.130003</td>\n",
       "      <td>0.203528</td>\n",
       "      <td>0.001529</td>\n",
       "    </tr>\n",
       "    <tr>\n",
       "      <th>7</th>\n",
       "      <td>Prepaid</td>\n",
       "      <td>19.461415</td>\n",
       "      <td>0.000000</td>\n",
       "      <td>0.000000</td>\n",
       "    </tr>\n",
       "    <tr>\n",
       "      <th>8</th>\n",
       "      <td>Unknown</td>\n",
       "      <td>15.872380</td>\n",
       "      <td>0.082129</td>\n",
       "      <td>0.000147</td>\n",
       "    </tr>\n",
       "  </tbody>\n",
       "</table>\n",
       "</div>"
      ],
      "text/plain": [
       "  payment_type   avg_fare  avg_tips  avg_tolls\n",
       "0         Cash  12.978306  0.002387   0.001791\n",
       "1  Credit Card  16.814138  3.774545   0.002267\n",
       "2      Dispute  15.655840  0.001446   0.078991\n",
       "3       Mobile  15.973174  3.112698   0.000050\n",
       "4    No Charge  15.753510  0.249532   0.019142\n",
       "5        Pcard  11.327471  0.038023   0.000000\n",
       "6       Prcard  16.130003  0.203528   0.001529\n",
       "7      Prepaid  19.461415  0.000000   0.000000\n",
       "8      Unknown  15.872380  0.082129   0.000147"
      ]
     },
     "execution_count": 6,
     "metadata": {},
     "output_type": "execute_result"
    }
   ],
   "source": [
    "# Define the SQL query\n",
    "query3 = \"\"\"\n",
    "SELECT \n",
    "    payment_type,\n",
    "    AVG(fare) AS avg_fare,\n",
    "    AVG(tips) AS avg_tips,\n",
    "    AVG(tolls) AS avg_tolls\n",
    "FROM \n",
    "    `bigquery-public-data.chicago_taxi_trips.taxi_trips`\n",
    "WHERE \n",
    "    EXTRACT(YEAR FROM trip_start_timestamp) = 2019\n",
    "GROUP BY \n",
    "    payment_type\n",
    "ORDER BY \n",
    "    payment_type\n",
    "\"\"\"\n",
    "\n",
    "# Execute the query and convert results to a DataFrame\n",
    "df3 = client.query(query3).to_dataframe()\n",
    "df3.head(10)"
   ]
  },
  {
   "cell_type": "markdown",
   "id": "87a6cee0",
   "metadata": {
    "papermill": {
     "duration": 0.005048,
     "end_time": "2024-10-16T12:07:23.800289",
     "exception": false,
     "start_time": "2024-10-16T12:07:23.795241",
     "status": "completed"
    },
    "tags": []
   },
   "source": [
    "* **Prepaid** has **the highest average fare** compared to other payment methods, but has **the lowest average tips and tolls** (no tips and tolls).\n",
    "* **Credit card** payments have **the highest average tips** compared to other payment methods.\n",
    "* **Mobile** payments have **the highest average tolls** compared to other payment methods.\n",
    "* **Pcard** payments have **no tolls**."
   ]
  }
 ],
 "metadata": {
  "kaggle": {
   "accelerator": "none",
   "dataSources": [
    {
     "datasetId": 22219,
     "sourceId": 28536,
     "sourceType": "datasetVersion"
    }
   ],
   "dockerImageVersionId": 30786,
   "isGpuEnabled": false,
   "isInternetEnabled": true,
   "language": "python",
   "sourceType": "notebook"
  },
  "kernelspec": {
   "display_name": "Python 3",
   "language": "python",
   "name": "python3"
  },
  "language_info": {
   "codemirror_mode": {
    "name": "ipython",
    "version": 3
   },
   "file_extension": ".py",
   "mimetype": "text/x-python",
   "name": "python",
   "nbconvert_exporter": "python",
   "pygments_lexer": "ipython3",
   "version": "3.10.14"
  },
  "papermill": {
   "default_parameters": {},
   "duration": 60.2695,
   "end_time": "2024-10-16T12:07:24.526664",
   "environment_variables": {},
   "exception": null,
   "input_path": "__notebook__.ipynb",
   "output_path": "__notebook__.ipynb",
   "parameters": {},
   "start_time": "2024-10-16T12:06:24.257164",
   "version": "2.6.0"
  }
 },
 "nbformat": 4,
 "nbformat_minor": 5
}
